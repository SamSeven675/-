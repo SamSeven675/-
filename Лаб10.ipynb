{
  "metadata": {
    "language_info": {
      "codemirror_mode": {
        "name": "python",
        "version": 3
      },
      "file_extension": ".py",
      "mimetype": "text/x-python",
      "name": "python",
      "nbconvert_exporter": "python",
      "pygments_lexer": "ipython3",
      "version": "3.8"
    },
    "kernelspec": {
      "name": "python",
      "display_name": "Python (Pyodide)",
      "language": "python"
    }
  },
  "nbformat_minor": 4,
  "nbformat": 4,
  "cells": [
    {
      "cell_type": "code",
      "source": "    import sympy as sp\n    import numpy as np\n    from math import e\n    import matplotlib.pyplot as plt\n    from scipy.interpolate  import approximate_taylor_polynomial\n    from math import factorial\n    def taylor(x):\n        y = 0\n        d1 = sp.diff(f, x) # перша похідна\n        d2 = sp.diff(d1, x) #друга похідна\n        d3 = sp.diff(d2, x)  # третя похідна\n        print('d1=',d1,'d2=',d2,'d3=',d3)\n        y += f + d1*x + d2*(x-0)2/factorial(2) + d3*(x-0)**3/factorial(3)\n        print ('y = ', y)\n    \n        return y\n    x = sp.symbols('x')\n    f = (e-x)+x**2\n    taylor_x = taylor(x)\nsp.plot(taylor_x, f, (x, -1, 1), label='Taylor')",
      "metadata": {
        "trusted": true
      },
      "execution_count": 5,
      "outputs": [
        {
          "ename": "<class 'SyntaxError'>",
          "evalue": "invalid syntax (<ipython-input-5-bd478fed3cb7>, line 13)",
          "traceback": [
            "\u001b[0;36m  Cell \u001b[0;32mIn [5], line 13\u001b[0;36m\u001b[0m\n\u001b[0;31m    y += f + d1*x + d2*(x-0)2/factorial(2) + d3*(x-0)**3/factorial(3)\u001b[0m\n\u001b[0m                            ^\u001b[0m\n\u001b[0;31mSyntaxError\u001b[0m\u001b[0;31m:\u001b[0m invalid syntax\n"
          ],
          "output_type": "error"
        }
      ]
    },
    {
      "cell_type": "code",
      "source": "",
      "metadata": {},
      "execution_count": null,
      "outputs": []
    },
    {
      "cell_type": "code",
      "source": "",
      "metadata": {},
      "execution_count": null,
      "outputs": []
    }
  ]
}