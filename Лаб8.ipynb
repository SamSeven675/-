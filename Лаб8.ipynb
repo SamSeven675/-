{
  "metadata": {
    "language_info": {
      "codemirror_mode": {
        "name": "python",
        "version": 3
      },
      "file_extension": ".py",
      "mimetype": "text/x-python",
      "name": "python",
      "nbconvert_exporter": "python",
      "pygments_lexer": "ipython3",
      "version": "3.8"
    },
    "kernelspec": {
      "name": "python",
      "display_name": "Python (Pyodide)",
      "language": "python"
    }
  },
  "nbformat_minor": 4,
  "nbformat": 4,
  "cells": [
    {
      "cell_type": "code",
      "source": "import matplotlib.pyplot as plt\nfrom scipy.interpolate import UnivariateSpline\nimport numpy as np\n\nx = [0.1, 0.3, 0.6, 1.1, 1.8]\ny = [2.65, 2.75, 2.19, 1.76, 3.43]\n\nspl = UnivariateSpline(x, y)\nxs = np.linspace(0, 4.5, 1000)\n\nplt.plot(x,y,'ro', xs, spl(xs), 'g')\n\nplt.show()",
      "metadata": {
        "trusted": true
      },
      "execution_count": null,
      "outputs": []
    }
  ]
}