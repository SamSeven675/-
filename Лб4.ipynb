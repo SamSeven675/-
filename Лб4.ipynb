{
  "metadata": {
    "language_info": {
      "codemirror_mode": {
        "name": "python",
        "version": 3
      },
      "file_extension": ".py",
      "mimetype": "text/x-python",
      "name": "python",
      "nbconvert_exporter": "python",
      "pygments_lexer": "ipython3",
      "version": "3.8"
    },
    "kernelspec": {
      "name": "python",
      "display_name": "Python (Pyodide)",
      "language": "python"
    }
  },
  "nbformat_minor": 4,
  "nbformat": 4,
  "cells": [
    {
      "cell_type": "code",
      "source": "import numpy as np\n\nm_sqr_arrA = np.array([[1, 2], [4, -1]])\n\nprint(m_sqr_arrA)\n\nm_sqr_arrB = np.array([[2, -3], [-4, 1]])\n\nprint(m_sqr_arrB)\n\nm_sqr_arrR = m_sqr_arrA-m_sqr_arrB\n\nprint(m_sqr_arrR)",
      "metadata": {
        "trusted": true
      },
      "execution_count": 3,
      "outputs": [
        {
          "name": "stdout",
          "text": "[[ 1  2]\n [ 4 -1]]\n[[ 2 -3]\n [-4  1]]\n[[-1  5]\n [ 8 -2]]\n",
          "output_type": "stream"
        }
      ]
    },
    {
      "cell_type": "code",
      "source": "import numpy as np\n\nm_sqr_arr = np.array ([[-1, 0, 2],[0, 1, 0],[1, 2, -1]])\n\nm_sqr_arrR = m_sqr_arr * m_sqr_arr\n\nprint(m_sqr_arrR)",
      "metadata": {
        "trusted": true
      },
      "execution_count": 4,
      "outputs": [
        {
          "name": "stdout",
          "text": "[[1 0 4]\n [0 1 0]\n [1 4 1]]\n",
          "output_type": "stream"
        }
      ]
    },
    {
      "cell_type": "code",
      "source": "m_sqr_arrA = np.array ([[3,5],[6,-1]])\n\nm_sqr_arrB = np.array ([[2,1],[-3,2]])\n\nm_sqr_arrR = m_sqr_arrA.dot(m_sqr_arrB)\n\nprint(m_sqr_arrR)",
      "metadata": {
        "trusted": true
      },
      "execution_count": 5,
      "outputs": [
        {
          "name": "stdout",
          "text": "[[-9 13]\n [15  4]]\n",
          "output_type": "stream"
        }
      ]
    },
    {
      "cell_type": "code",
      "source": "m_sqr_arr = np.array ([[2,3,4],[1,0,6],[7,8,9]])\n\nprint(m_sqr_arr)\n\nnp.linalg.det(m_sqr_arr)",
      "metadata": {
        "trusted": true
      },
      "execution_count": 6,
      "outputs": [
        {
          "name": "stdout",
          "text": "[[2 3 4]\n [1 0 6]\n [7 8 9]]\n",
          "output_type": "stream"
        },
        {
          "execution_count": 6,
          "output_type": "execute_result",
          "data": {
            "text/plain": "35.00000000000001"
          },
          "metadata": {}
        }
      ]
    },
    {
      "cell_type": "code",
      "source": "m_sqr_arr = np.array ([[1,2,3,4],[-2,1,-4,3],[3,-4,-1,2],[4,3,-2,-1]])\n\nprint(m_sqr_arr)\n\nnp.linalg.det(m_sqr_arr)",
      "metadata": {
        "trusted": true
      },
      "execution_count": 7,
      "outputs": [
        {
          "name": "stdout",
          "text": "[[ 1  2  3  4]\n [-2  1 -4  3]\n [ 3 -4 -1  2]\n [ 4  3 -2 -1]]\n",
          "output_type": "stream"
        },
        {
          "execution_count": 7,
          "output_type": "execute_result",
          "data": {
            "text/plain": "900.0000000000009"
          },
          "metadata": {}
        }
      ]
    },
    {
      "cell_type": "code",
      "source": "",
      "metadata": {},
      "execution_count": null,
      "outputs": []
    }
  ]
}